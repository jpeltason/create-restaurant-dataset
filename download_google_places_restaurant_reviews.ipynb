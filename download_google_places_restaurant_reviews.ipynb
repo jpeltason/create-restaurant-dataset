{
 "cells": [
  {
   "cell_type": "code",
   "execution_count": 1,
   "metadata": {},
   "outputs": [],
   "source": [
    "import numpy as np\n",
    "import pandas as pd"
   ]
  },
  {
   "cell_type": "code",
   "execution_count": 2,
   "metadata": {},
   "outputs": [],
   "source": [
    "# Load restaurant data from file\n",
    "restaurant_df = pd.read_csv('reviews_step=-0.02789_offset=1.csv')"
   ]
  },
  {
   "cell_type": "code",
   "execution_count": 4,
   "metadata": {},
   "outputs": [],
   "source": [
    "def read_file_content(filename):\n",
    "    \"\"\" Given a filename,\n",
    "        returns the content of this file\n",
    "    \"\"\"\n",
    "    try:\n",
    "        with open(filename, 'r') as f:\n",
    "            return f.read()\n",
    "    except FileNotFoundError:\n",
    "        print(\"'%s' file not found\" % filename)"
   ]
  },
  {
   "cell_type": "code",
   "execution_count": 5,
   "metadata": {},
   "outputs": [],
   "source": [
    "# Open Google Places API key file and read keys\n",
    "# The file is assumed to contain only one single line with the API key\n",
    "# Configure GooglePlaces and gmaps\n",
    "WEXTRACTOR_API_KEY = read_file_content(\"./API Keys/WEXTRACTOR_API_KEY.txt\")"
   ]
  },
  {
   "cell_type": "code",
   "execution_count": null,
   "metadata": {},
   "outputs": [],
   "source": [
    "# Use Wextractor to download all ratings for each restaurant\n",
    "\n",
    "import requests\n",
    "import json\n",
    "\n",
    "WEXTRACTOR_API_KEY = read_file_content(\"./API Keys/WEXTRACTOR_API_KEY.txt\")\n",
    "\n",
    "# Each offset step returns 10 reveiws\n",
    "# For now, set the limit just to 1 to spare API requests\n",
    "offset_limit = 1\n",
    "\n",
    "reviews_per_restaurant = dict()\n",
    "\n",
    "# For each restaurant, ...\n",
    "# until the offset limit is reached\n",
    "restaurant_ids = restaurant_df.id.values\n",
    "for restaurant_id in (restaurant_ids):\n",
    "    \n",
    "    offset = 0\n",
    "    resp_list = []\n",
    "    \n",
    "    \n",
    "    while (offset < offset_limit):\n",
    "        print (offset)\n",
    "        offset += 1\n",
    "        # Create REST query as described here: https://wextractor.com/docs \n",
    "        query = ('https://wextractor.com/api/v1/reviews?' +\n",
    "             'id=' + restaurant_id + \n",
    "             '&auth_token=' + WEXTRACTOR_API_KEY + \n",
    "             '&offset=' + str(offset) +\n",
    "             '&sort=relevancy' + \n",
    "             'hl=de')# Set 'host language' to German, \n",
    "                    # otherwise English reviews will be preferred, and sorting by relevancy will not apply\n",
    "\n",
    "        resp = requests.get(query)\n",
    "        if resp.status_code != 200:\n",
    "            # This means something went wrong\n",
    "            raise ApiError('GET /tasks/ {}'.format(resp.status_code))\n",
    "        resp_list.append(resp)\n",
    "\n",
    "    # For each restaurant, save the response list\n",
    "    reviews_per_restaurant[restaurant_id] = resp_list\n",
    "\n"
   ]
  },
  {
   "cell_type": "code",
   "execution_count": null,
   "metadata": {},
   "outputs": [],
   "source": [
    "# Create reviews_df DataFrame and fill it while iterating the reviews_per_restaurant dict\n",
    "reviews_df = pd.DataFrame(columns=['restaurant_id', 'rating', 'text', 'reviewer'])\n",
    "for restaurant_id, response_list in reviews_per_restaurant.items():\n",
    "    print('-----------------------------')\n",
    "    print(restaurant_id)\n",
    "    for resp in response_list:\n",
    "        resp_json = resp.json()\n",
    "        review_list = resp_json['reviews']\n",
    "        new_row = pd.Series(data={'restaurant_id':restaurant_id, \n",
    "                                  'rating':review['rating'], \n",
    "                                  'text':review['text'], \n",
    "                                  'reviewer':review['reviewer']}, name='x')\n",
    "        reviews_df = reviews_df.append(new_row, ignore_index=False) #TODO replace 'append'?\n",
    "        for review in review_list:\n",
    "            print(review['rating'])\n",
    "            print(review['reviewer'])\n",
    "            print(review['text'])"
   ]
  },
  {
   "cell_type": "code",
   "execution_count": null,
   "metadata": {},
   "outputs": [],
   "source": [
    "reviews_df.head()"
   ]
  },
  {
   "cell_type": "code",
   "execution_count": null,
   "metadata": {},
   "outputs": [],
   "source": [
    "# Write to CSV file and Excel file\n",
    "reviews_df.to_csv('restaurants_step=' + str(step) + '_offset=' + offset + '.csv', index=False)\n",
    "reviews_df.to_excel('restaurants_step=' + str(step) + '_offset=' + offset + '.xlsx', index=False)"
   ]
  }
 ],
 "metadata": {
  "kernelspec": {
   "display_name": "Python 3",
   "language": "python",
   "name": "python3"
  },
  "language_info": {
   "codemirror_mode": {
    "name": "ipython",
    "version": 3
   },
   "file_extension": ".py",
   "mimetype": "text/x-python",
   "name": "python",
   "nbconvert_exporter": "python",
   "pygments_lexer": "ipython3",
   "version": "3.7.6"
  }
 },
 "nbformat": 4,
 "nbformat_minor": 4
}
